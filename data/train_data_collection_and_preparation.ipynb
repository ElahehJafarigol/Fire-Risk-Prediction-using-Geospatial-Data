{
  "nbformat": 4,
  "nbformat_minor": 0,
  "metadata": {
    "colab": {
      "provenance": [],
      "machine_shape": "hm"
    },
    "kernelspec": {
      "name": "python3",
      "display_name": "Python 3"
    },
    "language_info": {
      "name": "python"
    }
  },
  "cells": [
    {
      "cell_type": "markdown",
      "source": [
        "## **Data Collection and Preparation Steps for Wildfire Risk Modeling**"
      ],
      "metadata": {
        "id": "P21PhKgRYw0-"
      }
    },
    {
      "cell_type": "markdown",
      "source": [
        "**1️⃣ Fire History Data (Shapefiles)**\n",
        "\n",
        "✅ **Dataset:** Historical Wildfire Perimeters  \n",
        "\n",
        "📥 **Download Link:**  \n",
        "- 🔗 **[CalFire Fire Perimeters (California)](https://data.ca.gov/dataset/california-historical-fire-perimeters)**\n",
        "\n",
        "---\n",
        "\n",
        "**2️⃣ Climate & Weather Data (Raster)**\n",
        "\n",
        "✅ **Dataset:** Temperature, Humidity, Wind Speed (Daily Climate Data)\n",
        "\n",
        "📥 **Download Link:**  \n",
        "- 🔗 **[NASA POWER (Global Climate Data)](https://power.larc.nasa.gov/data-access-viewer/)**\n",
        "\n",
        "---\n",
        "\n",
        "**3️⃣ Terrain & Vegetation Data (Elevation, NDVI)**\n",
        "\n",
        "✅ **Dataset:** NDVI (Vegetation Index) & Digital Elevation Model (DEM)\n",
        "\n",
        "📥 **Download Link:**  \n",
        "\n",
        "- 🔗 **[MODIS/Terra Vegetation Indices 16-Day L3 Global 250m SIN Grid V061-NDVI (NASA)](https://search.earthdata.nasa.gov/search)**\n",
        "- 🔗 **[GEDI L2A Elevation and Height Metrics (NASA)](https://search.earthdata.nasa.gov/search)**\n",
        "\n",
        "---\n",
        "\n",
        "**4️⃣ Human Infrastructure Data (Roads, Urban Areas)**\n",
        "\n",
        "✅ **Dataset:** Road Networks & Urban Boundaries  \n",
        "📥 **Download Link:**  \n",
        "\n",
        "- 🔗 **[California All Public Roads Network](https://gisdata-caltrans.opendata.arcgis.com/datasets/2d56e65de89c418780056651640291e8_0/about)**\n",
        "- 🔗 **[Adjusted Urban Areas](https://gisdata-caltrans.opendata.arcgis.com/datasets/71930cd25e6f4683ba2ee18511ac21ef_0/about)**\n",
        "\n"
      ],
      "metadata": {
        "id": "s9n0aIhU0IsA"
      }
    },
    {
      "cell_type": "markdown",
      "source": [
        "**Spatial Clipping**\n",
        "\n",
        "Datasets were clipped to a bounding box covering the specific region of California relevant to the modeling task:\n",
        "*   **Longitude: -120.38 to -116.87**\n",
        "*   **Latitude: 32.76 to 35.17**\n",
        "\n",
        "**Coordinate Reference System (CRS) Alignment**\n",
        "\n",
        "All geospatial data is standardized to the WGS84 geographic coordinate system (EPSG:4326). For accurate distance computations, a projected coordinate system (California Albers, EPSG:3310) is used."
      ],
      "metadata": {
        "id": "835rz6-IhbvP"
      }
    },
    {
      "cell_type": "code",
      "source": [
        "# Install Libraries\n",
        "!pip install --quiet geopandas xarray pyhdf h5py\n",
        "\n",
        "# Set up Google Drice\n",
        "from google.colab import drive\n",
        "drive.mount(\"/content/drive\")\n",
        "\n",
        "# Import Libraries\n",
        "import sys\n",
        "sys.path.append(\"/content/drive/MyDrive/Fire\")\n",
        "import data_loader\n",
        "BASE_DIR = \"/content/drive/MyDrive/Fire\"\n",
        "\n",
        "import os\n",
        "import gc\n",
        "import h5py\n",
        "import glob\n",
        "import xarray as xr\n",
        "\n",
        "import pandas as pd\n",
        "from tqdm import tqdm\n",
        "import geopandas as gpd\n",
        "from shapely import box\n",
        "from pyhdf.SD import SD, SDC\n",
        "from datetime import datetime\n",
        "from scipy.spatial import cKDTree\n",
        "from shapely.geometry import Point\n",
        "from shapely.geometry import Polygon, MultiPolygon"
      ],
      "metadata": {
        "colab": {
          "base_uri": "https://localhost:8080/"
        },
        "id": "FB98SsBOGlaH",
        "outputId": "70262048-bdc8-4a12-c713-b27e98a35992"
      },
      "execution_count": null,
      "outputs": [
        {
          "output_type": "stream",
          "name": "stdout",
          "text": [
            "Drive already mounted at /content/drive; to attempt to forcibly remount, call drive.mount(\"/content/drive\", force_remount=True).\n"
          ]
        }
      ]
    },
    {
      "cell_type": "markdown",
      "source": [
        "### **Climate & Weather Data**"
      ],
      "metadata": {
        "id": "QwPa07VRxzKm"
      }
    },
    {
      "cell_type": "code",
      "source": [
        "nc_files = glob.glob(os.path.join(BASE_DIR, \"*.nc\"))\n",
        "humidity_path = [f for f in nc_files if \"_h\" in f][0]\n",
        "temperature_path = [f for f in nc_files if \"_t\" in f][0]\n",
        "wind_path = [f for f in nc_files if \"_w\" in f][0]\n",
        "\n",
        "climate_df = data_loader.load_climate_data(humidity_path, temperature_path, wind_path)\n",
        "climate_df.to_csv(os.path.join(BASE_DIR,\"climate_df.csv\"), index=False)"
      ],
      "metadata": {
        "id": "ANFK4gi4iptB"
      },
      "execution_count": null,
      "outputs": []
    },
    {
      "cell_type": "markdown",
      "source": [
        "### **Vegetation Data (MODIS)**"
      ],
      "metadata": {
        "id": "xUUl3jlcyF7Z"
      }
    },
    {
      "cell_type": "code",
      "source": [
        "%cd /content\n",
        "!chmod +x /content/drive/MyDrive/Fire/vegetation-filtered-download.sh\n",
        "\n",
        "!mkdir -p vegetation\n",
        "%cd vegetation\n",
        "!bash /content/drive/MyDrive/Fire/vegetation-filtered-download.sh"
      ],
      "metadata": {
        "id": "6NKBwgfBXF6_"
      },
      "execution_count": null,
      "outputs": []
    },
    {
      "cell_type": "code",
      "source": [
        "# Define MODIS NDVI directory\n",
        "veg_dir = \"/content/vegetation\"\n",
        "hdf_files = [os.path.join(veg_dir, f) for f in os.listdir(veg_dir) if f.endswith(\".hdf\")]\n",
        "\n",
        "# Compute lat/lon grid once (Bounding box approach)\n",
        "lat_min, lat_max = 32.76, 35.17\n",
        "lon_min, lon_max = -120.38, -116.87\n",
        "\n",
        "output_file = os.path.join(BASE_DIR,\"ndvi_df.csv\")\n",
        "first_write = True  # Track first file to write headers\n",
        "\n",
        "data_loader.extract_ndvi(hdf_files, lat_range=(32.76, 35.17), lon_range=(-120.38, -116.87), output_file=output_file)\n",
        "!rm -r /content/vegetation"
      ],
      "metadata": {
        "id": "RZihOjAjq35d"
      },
      "execution_count": null,
      "outputs": []
    },
    {
      "cell_type": "markdown",
      "source": [
        "### **Elevation and Canopy Height (GEDI)**"
      ],
      "metadata": {
        "id": "LwBgAbt3bYGv"
      }
    },
    {
      "cell_type": "code",
      "source": [
        "%cd /content/\n",
        "!chmod +x /content/drive/MyDrive/Fire/elevation-download.sh\n",
        "\n",
        "%mkdir -p elevation\n",
        "%cd elevation\n",
        "!bash /content/drive/MyDrive/Fire/elevation-download.sh"
      ],
      "metadata": {
        "collapsed": true,
        "id": "sM2rSSJPMg0_"
      },
      "execution_count": null,
      "outputs": []
    },
    {
      "cell_type": "code",
      "source": [
        "gedi_dir = \"/content/elevation\"\n",
        "gedi_files = [os.path.join(gedi_dir, f) for f in os.listdir(gedi_dir) if f.endswith(\".h5\")]\n",
        "\n",
        "gedi_path = \"/content/elevation/GEDI02_A_2023001145522_O22964_03_T09998_02_003_02_V002.h5\"\n",
        "elevation_df, canopy_df = data_loader.load_gedi_data(gedi_path, beam_name=\"BEAM0001\")\n",
        "\n",
        "elevation_df, canopy_df = data_loader.combine_gedi_datasets(gedi_files)\n",
        "elevation_canopy_gdf = data_loader.spatial_merge_elevation_canopy(elevation_df, canopy_df)\n",
        "\n",
        "elevation_canopy_gdf.to_csv(os.path.join(BASE_DIR, \"canopy_elevation_gdf.csv\"), index=False)\n",
        "!rm -r /content/elevation"
      ],
      "metadata": {
        "id": "gFx7v5gaX73f"
      },
      "execution_count": null,
      "outputs": []
    },
    {
      "cell_type": "markdown",
      "source": [
        "### **Fire History & Human Infrastructure (Roads, Urban Areas)**"
      ],
      "metadata": {
        "id": "nARunyLCxcG8"
      }
    },
    {
      "cell_type": "code",
      "source": [
        "bbox = box(-120.38, 32.76, -116.87, 35.17)\n",
        "\n",
        "fire_path = os.path.join(BASE_DIR, \"California_Fire_Perimeters_(1950%2B).shp\")\n",
        "fires = data_loader.load_fire_data(fire_path, bbox)\n",
        "fires = fires[fires[\"YEAR_\"] == 2023.0]\n",
        "\n",
        "road_path = os.path.join(BASE_DIR, \"California_All_Public_Roads_Network.shp\")\n",
        "urban_area_path = os.path.join(BASE_DIR, \"2020_Adjusted_Urban_Area.geojson\")\n",
        "roads, urban_area = data_loader.load_infrastructure_data(road_path, urban_area_path, bbox)"
      ],
      "metadata": {
        "id": "CK3HdVzkdcXq"
      },
      "execution_count": null,
      "outputs": []
    },
    {
      "cell_type": "markdown",
      "source": [
        "Compute Fire Distances to Urban Areas & Roads & Merge with Fire Data"
      ],
      "metadata": {
        "id": "AmcXGRavTfR_"
      }
    },
    {
      "cell_type": "code",
      "source": [
        "fires_df = data_loader.process_fire_data(fires, urban_area, roads)\n",
        "\n",
        "columns = ['lat', 'lon','date', 'CONT_DATE', 'Shape__Are', 'Shape__Len', 'geometry', 'DISTANCE_TO_URBAN_AREAS', 'DISTANCE_TO_ROADS']\n",
        "fires_df = fires_df[columns]\n",
        "fires_df.to_csv(os.path.join(BASE_DIR, \"fires_df.csv\"), index=False)"
      ],
      "metadata": {
        "id": "nmTVnM7KsKgW"
      },
      "execution_count": null,
      "outputs": []
    },
    {
      "cell_type": "markdown",
      "source": [
        "### **Merging Data**\n"
      ],
      "metadata": {
        "id": "As-jO_M7YogB"
      }
    },
    {
      "cell_type": "code",
      "source": [
        "fires_df = pd.read_csv(os.path.join(BASE_DIR, \"fires_df.csv\"))\n",
        "climate_df = pd.read_csv(os.path.join(BASE_DIR, \"climate_df.csv\"))\n",
        "ndvi_df = pd.read_csv(os.path.join(BASE_DIR, \"ndvi_df.csv\"))\n",
        "elevation_canopy_df = pd.read_csv(os.path.join(BASE_DIR, \"canopy_elevation_gdf.csv\"))\n",
        "\n",
        "fires_df = data_loader.merge_datasets(fires_df, climate_df, ndvi_df, elevation_canopy_df)\n",
        "\n",
        "# Check the range of lat/lon to ensure correctness\n",
        "print(\"Lat range:\", fires_df[\"lat\"].min(), \"to\", fires_df[\"lat\"].max())\n",
        "print(\"Lon range:\", fires_df[\"lon\"].min(), \"to\", fires_df[\"lon\"].max())\n",
        "\n",
        "fires_df.to_csv(os.path.join(BASE_DIR, \"Fire_Risk_Data.csv\"), index=False)"
      ],
      "metadata": {
        "id": "O67uNwgznCNi"
      },
      "execution_count": null,
      "outputs": []
    }
  ]
}